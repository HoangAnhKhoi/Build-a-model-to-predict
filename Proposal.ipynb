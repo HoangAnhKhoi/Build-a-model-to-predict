{
 "cells": [
  {
   "attachments": {},
   "cell_type": "markdown",
   "metadata": {},
   "source": [
    "### Phần 1- Giới thiệu\n",
    "* Bệnh tim là một căn bệnh nguy hiểm và có nguy cơ mắc cao ở người lớn tuổi nhưng hiện nay độ tuổi mắc bệnh đang trẻ hóa. Nên ta cần có một cuộc thí nghiệm để biết được ở những người bệnh tim có các triệu chứng gì để từ đó có thể pháp hiện và điều trị kịp thời\n",
    "* Mục tiêu nghiên cứu:\n",
    "Những yếu tố nào cho thấy rõ khả năng mắc bệnh tim?\n",
    "Độ tuổi có nguy cơ mắc bệnh tim cao?\n",
    "    * Trạng thái điện tâm đồ của người mắc bệnh tim có gì bất thường?\n",
    "    * Có sự khác biệt về nguy cơ mắc bệnh tim giữa nam và nữ hay không?\n",
    "    * Những giải pháp cần được đưa ta để giảm thiểu nguy cơ mắc bệnh tim\n",
    "    * Tập dữ liệu để phân tích được lấy từ https://www.kaggle.com/ và có từ năm 1988. Nó bao gồm các chỉ số liên quan và ảnh hưởng đến tim.\n",
    "* Trong quá trình nghiên cứu có thể xảy ra các trường hợp:\n",
    "Nhóm người có các triệu chứng nhưng lại không mắc bệnh và ngược lại\n",
    "    * Nhóm người mắc bệnh\n",
    "    * Nhóm người bình thường\n",
    "* Các biến trong tập dữ liệu: Tuổi, Giới tính, Các kiểu đau ngực, Huyết áp lúc bình thường, Nồng độ cholestoral, Đường huyết, Điện tâm đồ lúc bình thường, Nhịp tim tối đa, Khả năng đau thắt ngực do tập thể dục, Giá trị chênh lệch của độ dốc đoạn ST, Trạng thái của đoạn ST lúc nghỉ(lên, xuống, thẳng), số lượng mạch chính được quan sát bằng phương pháp soi huỳnh quang, Trạng thái rối loạn máu Thalassemia, Tình trạng bệnh."
   ]
  },
  {
   "attachments": {},
   "cell_type": "markdown",
   "metadata": {},
   "source": [
    "### PHẦN 2 - Dữ liệu"
   ]
  },
  {
   "cell_type": "code",
   "execution_count": 1,
   "metadata": {},
   "outputs": [],
   "source": [
    "import numpy as np\n",
    "import pandas as pd"
   ]
  },
  {
   "attachments": {},
   "cell_type": "markdown",
   "metadata": {},
   "source": [
    "Đọc file csv lấy data"
   ]
  },
  {
   "cell_type": "code",
   "execution_count": 2,
   "metadata": {},
   "outputs": [],
   "source": [
    "df = pd.read_csv(\"heart_disease_dataset.csv\")"
   ]
  },
  {
   "attachments": {},
   "cell_type": "markdown",
   "metadata": {},
   "source": [
    "Hiển thị 5 dòng đầu của dữ liệu"
   ]
  },
  {
   "cell_type": "code",
   "execution_count": 3,
   "metadata": {},
   "outputs": [
    {
     "data": {
      "text/html": [
       "<div>\n",
       "<style scoped>\n",
       "    .dataframe tbody tr th:only-of-type {\n",
       "        vertical-align: middle;\n",
       "    }\n",
       "\n",
       "    .dataframe tbody tr th {\n",
       "        vertical-align: top;\n",
       "    }\n",
       "\n",
       "    .dataframe thead th {\n",
       "        text-align: right;\n",
       "    }\n",
       "</style>\n",
       "<table border=\"1\" class=\"dataframe\">\n",
       "  <thead>\n",
       "    <tr style=\"text-align: right;\">\n",
       "      <th></th>\n",
       "      <th>age</th>\n",
       "      <th>sex</th>\n",
       "      <th>cp</th>\n",
       "      <th>trestbps</th>\n",
       "      <th>chol</th>\n",
       "      <th>fbs</th>\n",
       "      <th>restecg</th>\n",
       "      <th>thalach</th>\n",
       "      <th>exang</th>\n",
       "      <th>oldpeak</th>\n",
       "      <th>slope</th>\n",
       "      <th>ca</th>\n",
       "      <th>thal</th>\n",
       "      <th>target</th>\n",
       "    </tr>\n",
       "  </thead>\n",
       "  <tbody>\n",
       "    <tr>\n",
       "      <th>0</th>\n",
       "      <td>52</td>\n",
       "      <td>1</td>\n",
       "      <td>0</td>\n",
       "      <td>125</td>\n",
       "      <td>212</td>\n",
       "      <td>0</td>\n",
       "      <td>1</td>\n",
       "      <td>168</td>\n",
       "      <td>0</td>\n",
       "      <td>1.0</td>\n",
       "      <td>2</td>\n",
       "      <td>2</td>\n",
       "      <td>3</td>\n",
       "      <td>0</td>\n",
       "    </tr>\n",
       "    <tr>\n",
       "      <th>1</th>\n",
       "      <td>53</td>\n",
       "      <td>1</td>\n",
       "      <td>0</td>\n",
       "      <td>140</td>\n",
       "      <td>203</td>\n",
       "      <td>1</td>\n",
       "      <td>0</td>\n",
       "      <td>155</td>\n",
       "      <td>1</td>\n",
       "      <td>3.1</td>\n",
       "      <td>0</td>\n",
       "      <td>0</td>\n",
       "      <td>3</td>\n",
       "      <td>0</td>\n",
       "    </tr>\n",
       "    <tr>\n",
       "      <th>2</th>\n",
       "      <td>70</td>\n",
       "      <td>1</td>\n",
       "      <td>0</td>\n",
       "      <td>145</td>\n",
       "      <td>174</td>\n",
       "      <td>0</td>\n",
       "      <td>1</td>\n",
       "      <td>125</td>\n",
       "      <td>1</td>\n",
       "      <td>2.6</td>\n",
       "      <td>0</td>\n",
       "      <td>0</td>\n",
       "      <td>3</td>\n",
       "      <td>0</td>\n",
       "    </tr>\n",
       "    <tr>\n",
       "      <th>3</th>\n",
       "      <td>61</td>\n",
       "      <td>1</td>\n",
       "      <td>0</td>\n",
       "      <td>148</td>\n",
       "      <td>203</td>\n",
       "      <td>0</td>\n",
       "      <td>1</td>\n",
       "      <td>161</td>\n",
       "      <td>0</td>\n",
       "      <td>0.0</td>\n",
       "      <td>2</td>\n",
       "      <td>1</td>\n",
       "      <td>3</td>\n",
       "      <td>0</td>\n",
       "    </tr>\n",
       "    <tr>\n",
       "      <th>4</th>\n",
       "      <td>62</td>\n",
       "      <td>0</td>\n",
       "      <td>0</td>\n",
       "      <td>138</td>\n",
       "      <td>294</td>\n",
       "      <td>1</td>\n",
       "      <td>1</td>\n",
       "      <td>106</td>\n",
       "      <td>0</td>\n",
       "      <td>1.9</td>\n",
       "      <td>1</td>\n",
       "      <td>3</td>\n",
       "      <td>2</td>\n",
       "      <td>0</td>\n",
       "    </tr>\n",
       "  </tbody>\n",
       "</table>\n",
       "</div>"
      ],
      "text/plain": [
       "   age  sex  cp  trestbps  chol  fbs  restecg  thalach  exang  oldpeak  slope  \\\n",
       "0   52    1   0       125   212    0        1      168      0      1.0      2   \n",
       "1   53    1   0       140   203    1        0      155      1      3.1      0   \n",
       "2   70    1   0       145   174    0        1      125      1      2.6      0   \n",
       "3   61    1   0       148   203    0        1      161      0      0.0      2   \n",
       "4   62    0   0       138   294    1        1      106      0      1.9      1   \n",
       "\n",
       "   ca  thal  target  \n",
       "0   2     3       0  \n",
       "1   0     3       0  \n",
       "2   0     3       0  \n",
       "3   1     3       0  \n",
       "4   3     2       0  "
      ]
     },
     "execution_count": 3,
     "metadata": {},
     "output_type": "execute_result"
    }
   ],
   "source": [
    "df.head(5)"
   ]
  },
  {
   "attachments": {},
   "cell_type": "markdown",
   "metadata": {},
   "source": [
    "Hiển thi 5 dòng cuối của dữ liệu"
   ]
  },
  {
   "cell_type": "code",
   "execution_count": 4,
   "metadata": {},
   "outputs": [
    {
     "data": {
      "text/html": [
       "<div>\n",
       "<style scoped>\n",
       "    .dataframe tbody tr th:only-of-type {\n",
       "        vertical-align: middle;\n",
       "    }\n",
       "\n",
       "    .dataframe tbody tr th {\n",
       "        vertical-align: top;\n",
       "    }\n",
       "\n",
       "    .dataframe thead th {\n",
       "        text-align: right;\n",
       "    }\n",
       "</style>\n",
       "<table border=\"1\" class=\"dataframe\">\n",
       "  <thead>\n",
       "    <tr style=\"text-align: right;\">\n",
       "      <th></th>\n",
       "      <th>age</th>\n",
       "      <th>sex</th>\n",
       "      <th>cp</th>\n",
       "      <th>trestbps</th>\n",
       "      <th>chol</th>\n",
       "      <th>fbs</th>\n",
       "      <th>restecg</th>\n",
       "      <th>thalach</th>\n",
       "      <th>exang</th>\n",
       "      <th>oldpeak</th>\n",
       "      <th>slope</th>\n",
       "      <th>ca</th>\n",
       "      <th>thal</th>\n",
       "      <th>target</th>\n",
       "    </tr>\n",
       "  </thead>\n",
       "  <tbody>\n",
       "    <tr>\n",
       "      <th>1020</th>\n",
       "      <td>59</td>\n",
       "      <td>1</td>\n",
       "      <td>1</td>\n",
       "      <td>140</td>\n",
       "      <td>221</td>\n",
       "      <td>0</td>\n",
       "      <td>1</td>\n",
       "      <td>164</td>\n",
       "      <td>1</td>\n",
       "      <td>0.0</td>\n",
       "      <td>2</td>\n",
       "      <td>0</td>\n",
       "      <td>2</td>\n",
       "      <td>1</td>\n",
       "    </tr>\n",
       "    <tr>\n",
       "      <th>1021</th>\n",
       "      <td>60</td>\n",
       "      <td>1</td>\n",
       "      <td>0</td>\n",
       "      <td>125</td>\n",
       "      <td>258</td>\n",
       "      <td>0</td>\n",
       "      <td>0</td>\n",
       "      <td>141</td>\n",
       "      <td>1</td>\n",
       "      <td>2.8</td>\n",
       "      <td>1</td>\n",
       "      <td>1</td>\n",
       "      <td>3</td>\n",
       "      <td>0</td>\n",
       "    </tr>\n",
       "    <tr>\n",
       "      <th>1022</th>\n",
       "      <td>47</td>\n",
       "      <td>1</td>\n",
       "      <td>0</td>\n",
       "      <td>110</td>\n",
       "      <td>275</td>\n",
       "      <td>0</td>\n",
       "      <td>0</td>\n",
       "      <td>118</td>\n",
       "      <td>1</td>\n",
       "      <td>1.0</td>\n",
       "      <td>1</td>\n",
       "      <td>1</td>\n",
       "      <td>2</td>\n",
       "      <td>0</td>\n",
       "    </tr>\n",
       "    <tr>\n",
       "      <th>1023</th>\n",
       "      <td>50</td>\n",
       "      <td>0</td>\n",
       "      <td>0</td>\n",
       "      <td>110</td>\n",
       "      <td>254</td>\n",
       "      <td>0</td>\n",
       "      <td>0</td>\n",
       "      <td>159</td>\n",
       "      <td>0</td>\n",
       "      <td>0.0</td>\n",
       "      <td>2</td>\n",
       "      <td>0</td>\n",
       "      <td>2</td>\n",
       "      <td>1</td>\n",
       "    </tr>\n",
       "    <tr>\n",
       "      <th>1024</th>\n",
       "      <td>54</td>\n",
       "      <td>1</td>\n",
       "      <td>0</td>\n",
       "      <td>120</td>\n",
       "      <td>188</td>\n",
       "      <td>0</td>\n",
       "      <td>1</td>\n",
       "      <td>113</td>\n",
       "      <td>0</td>\n",
       "      <td>1.4</td>\n",
       "      <td>1</td>\n",
       "      <td>1</td>\n",
       "      <td>3</td>\n",
       "      <td>0</td>\n",
       "    </tr>\n",
       "  </tbody>\n",
       "</table>\n",
       "</div>"
      ],
      "text/plain": [
       "      age  sex  cp  trestbps  chol  fbs  restecg  thalach  exang  oldpeak  \\\n",
       "1020   59    1   1       140   221    0        1      164      1      0.0   \n",
       "1021   60    1   0       125   258    0        0      141      1      2.8   \n",
       "1022   47    1   0       110   275    0        0      118      1      1.0   \n",
       "1023   50    0   0       110   254    0        0      159      0      0.0   \n",
       "1024   54    1   0       120   188    0        1      113      0      1.4   \n",
       "\n",
       "      slope  ca  thal  target  \n",
       "1020      2   0     2       1  \n",
       "1021      1   1     3       0  \n",
       "1022      1   1     2       0  \n",
       "1023      2   0     2       1  \n",
       "1024      1   1     3       0  "
      ]
     },
     "execution_count": 4,
     "metadata": {},
     "output_type": "execute_result"
    }
   ],
   "source": [
    "df.tail(5)"
   ]
  },
  {
   "attachments": {},
   "cell_type": "markdown",
   "metadata": {},
   "source": [
    "Thông tin chi tiết của các biến"
   ]
  },
  {
   "cell_type": "code",
   "execution_count": 6,
   "metadata": {},
   "outputs": [
    {
     "name": "stdout",
     "output_type": "stream",
     "text": [
      "<class 'pandas.core.frame.DataFrame'>\n",
      "RangeIndex: 1025 entries, 0 to 1024\n",
      "Data columns (total 14 columns):\n",
      " #   Column    Non-Null Count  Dtype  \n",
      "---  ------    --------------  -----  \n",
      " 0   age       1025 non-null   int64  \n",
      " 1   sex       1025 non-null   int64  \n",
      " 2   cp        1025 non-null   int64  \n",
      " 3   trestbps  1025 non-null   int64  \n",
      " 4   chol      1025 non-null   int64  \n",
      " 5   fbs       1025 non-null   int64  \n",
      " 6   restecg   1025 non-null   int64  \n",
      " 7   thalach   1025 non-null   int64  \n",
      " 8   exang     1025 non-null   int64  \n",
      " 9   oldpeak   1025 non-null   float64\n",
      " 10  slope     1025 non-null   int64  \n",
      " 11  ca        1025 non-null   int64  \n",
      " 12  thal      1025 non-null   int64  \n",
      " 13  target    1025 non-null   int64  \n",
      "dtypes: float64(1), int64(13)\n",
      "memory usage: 112.2 KB\n"
     ]
    }
   ],
   "source": [
    "df.info()"
   ]
  },
  {
   "attachments": {},
   "cell_type": "markdown",
   "metadata": {},
   "source": [
    "### Phần 3: Kế hoạch phân tích dữ liệu\n",
    "* Các biến dự đoán và biến kết quả dùng để trả lời các câu hỏi do nhóm đặt ra\n",
    "    * Biến dự đoán: age, cp, trestbps, chol, fbs, restecg, thalach, exang, oldpeak, slope, ca, thal, target, sex\n",
    "    * Biến kết quả: target\n",
    "* Các nhóm so sánh:\n",
    "    * So sánh các biến giữa người bệnh và người không mắc bệnh\n",
    "    * So sánh giữa những người khác giới\n",
    "    * So sánh điện tâm đồ của người bệnh và người không bệnh\n",
    "    * So sánh các độ tuổi khác nhau\n",
    "* Các phương pháp thống kê nhóm sẽ dùng:\n",
    "    * Thu thập và xử lý số liệu\n",
    "    * Dự đoán\n",
    "* Kết quả từ các phương pháp thống kê sẽ dùng:\n",
    "    * Phương pháp dự đoán giúp ta dựa vào bảng số liệu thô và các mối liên hệ trong thực tế giữa các biến để đưa ra những dự đoán phù hợp như: mối quan hệ giữa cholesterol và huyết áp, độ tuổi mắc bệnh tim phổ biến,... từ đó ta sẽ tìm hiểu và chứng minh những dự đoán trên. Trong lúc đó, ta sẽ thấy được những mối quan hệ khác giúp ta hiểu hơn và khai thác tốt hơn tập dữ liệu.\n",
    "    * Ở phương pháp thu thập và xử lý số liệu ta sẽ tiến tới việc làm rõ và cho thấy được mối quan hệ giữa các biến với nhau đặc biệt là kết quả target và các biến còn lại.\n",
    "* Phân tích sợ bộ dữ liệu"
   ]
  },
  {
   "cell_type": "code",
   "execution_count": 7,
   "metadata": {},
   "outputs": [
    {
     "data": {
      "image/png": "[encoded data removed]",
      "text/plain": [
       "<Figure size 432x288 with 1 Axes>"
      ]
     },
     "metadata": {},
     "output_type": "display_data"
    }
   ],
   "source": [
    "from matplotlib import pyplot as plt\n",
    "import numpy as np\n",
    "df['target']\n",
    "a = np.array(df['target'])\n",
    "not_nor = np.sum(a == 1) * 100 / len(a)\n",
    "nor = 100 - not_nor\n",
    "not_nor\n",
    "fig = plt.figure()\n",
    "ax = fig.add_axes([0,0,1,1])\n",
    "ax.axis('equal')\n",
    "langs = ['Người bệnh', 'Người bình thường']\n",
    "students = [not_nor, nor]\n",
    "ax.pie(students, labels = langs,autopct = '%1.2f%%')\n",
    "plt.show()"
   ]
  },
  {
   "attachments": {},
   "cell_type": "markdown",
   "metadata": {},
   "source": [
    "Biểu đồ cho thấy sự chênh lệch giữa người bệnh và người bình thường không cao từ đó việc phân tích và đánh giá sẽ đạt được độ tin cậy và chính xác cao hơn."
   ]
  },
  {
   "cell_type": "code",
   "execution_count": 8,
   "metadata": {},
   "outputs": [
    {
     "data": {
      "image/png": "[encoded data removed]",
      "text/plain": [
       "<Figure size 720x360 with 2 Axes>"
      ]
     },
     "metadata": {
      "needs_background": "light"
     },
     "output_type": "display_data"
    }
   ],
   "source": [
    "import matplotlib.pyplot as plt\n",
    "import seaborn as sns\n",
    "fig, (ax1, ax2) = plt.subplots(nrows = 1, ncols = 2, figsize = (10, 5));\n",
    "\n",
    "df1 = df[df[\"sex\"] == 1] \n",
    "df1 = df1[['age','target']] \n",
    "df2 = df1[df1['target'] == 1]\n",
    "arr_age_female_Y = df2['age'].to_numpy()\n",
    "ax1.hist(arr_age_female_Y, bins = 100);\n",
    "ax1.set(title = \"Số lượng nữ giới mắc bệnh ở từng độ tuổi\", xlabel = 'Age');\n",
    "\n",
    "df3 = df[df[\"sex\"] == 0] \n",
    "df3 = df3[['age','target']]\n",
    "df4 = df3[df3['target'] == 1]\n",
    "arr_age_male_Y = df4['age'].to_numpy() \n",
    "ax2.hist(arr_age_female_Y, bins = 100);\n",
    "ax2.set(title = \"Số lượng nam mắc giới bệnh ở từng độ tuổi\", xlabel = 'Age');"
   ]
  },
  {
   "attachments": {},
   "cell_type": "markdown",
   "metadata": {},
   "source": [
    "* Độ tuổi mắc bệnh ở nam và nữ giới có sự tương đồng với nhau.\n",
    "* Tỷ lệ mắc bệnh cao tập trung nhiều ở độ tuổi 51-53 tuổi.\n",
    "* Tỷ lệ mắc bệnh trung bình tập trung ở độ tuổi 42-45\n",
    "* Ở độ tuổi dưới 40 và ngoài 70 tỷ lệ mắc bệnh ít"
   ]
  },
  {
   "cell_type": "code",
   "execution_count": 9,
   "metadata": {},
   "outputs": [
    {
     "data": {
      "image/png": "[encoded data removed]",
      "text/plain": [
       "<Figure size 474.375x288 with 1 Axes>"
      ]
     },
     "metadata": {
      "needs_background": "light"
     },
     "output_type": "display_data"
    }
   ],
   "source": [
    "kws = dict(s = 50, linewidth = .5, edgecolor = 'b', alpha = .7) \n",
    "\n",
    "tips_fg = sns.FacetGrid(df, hue = \"target\", height = 4, aspect = 1.5, \n",
    "                        palette = 'Set2',  \n",
    "                        legend_out = True) \n",
    "plt.title(\"Biểu đồ thể hiện sự liên quan giữa cholesterol và huyết áp\")\n",
    "tips_fg.map(sns.scatterplot, 'chol', 'trestbps', **kws)\n",
    "tips_fg.add_legend();"
   ]
  },
  {
   "attachments": {},
   "cell_type": "markdown",
   "metadata": {},
   "source": [
    "Theo như khoa học thì cholesterol tỉ lệ thuận với huyết áp, khi cholesterol tăng sẽ ngăn cản sự lưu thông của máu làm cho tim phải tích cực đẩy máu từ đó làm tăng huyết áp và tăng nguy cơ mắc bệnh tim theo biểu đồ thì mức cholesterol ở bệnh nhân thường tập trung từ 200 - 300 mg/dl, từ đó huyết áp cũng ở mức cao từ 120 - 150 mmHg. Nên ta có thể thấy được mức cholesterol ảnh hưởng trực tiếp đến tim mạch và cũng là dấu hiệu rõ rệt cho người mắc bệnh."
   ]
  },
  {
   "cell_type": "code",
   "execution_count": 10,
   "metadata": {},
   "outputs": [
    {
     "data": {
      "image/png": "[encoded data removed]",
      "text/plain": [
       "<Figure size 432x288 with 1 Axes>"
      ]
     },
     "metadata": {
      "needs_background": "light"
     },
     "output_type": "display_data"
    }
   ],
   "source": [
    "cp0 = df[df.cp == 0]\n",
    "cp1 = df[df.cp == 1]\n",
    "cp2 = df[df.cp == 2]\n",
    "cp3 = df[df.cp == 3]\n",
    "cp0_nor = np.sum(np.array(cp0['target']) == 0)\n",
    "cp1_nor = np.sum(np.array(cp1['target']) == 0)\n",
    "cp2_nor = np.sum(np.array(cp2['target']) == 0)\n",
    "cp3_nor = np.sum(np.array(cp3['target']) == 0)\n",
    "cp0_nnor = np.sum(np.array(cp0['target']) == 1)\n",
    "cp1_nnor = np.sum(np.array(cp1['target']) == 1)\n",
    "cp2_nnor = np.sum(np.array(cp2['target']) == 1)\n",
    "cp3_nnor = np.sum(np.array(cp3['target']) == 1)\n",
    "nor = (cp0_nor, cp1_nor, cp2_nor, cp3_nor)\n",
    "not_nor = (cp0_nnor, cp1_nnor, cp2_nnor, cp3_nnor)\n",
    "\n",
    "ind = np.arange(len(nor))  \n",
    "width = 0.35  \n",
    "\n",
    "fig, ax = plt.subplots()\n",
    "rects1 = ax.bar(ind - width / 2, nor, width,\n",
    "                label = 'Người bình thường')\n",
    "rects2 = ax.bar(ind + width / 2, not_nor, width,\n",
    "                label = 'Người bệnh')\n",
    "\n",
    "ax.set_ylabel('Số lương')\n",
    "ax.set_title('Các loại đau thắc ngực')\n",
    "ax.set_xticks(ind)\n",
    "ax.set_xticklabels(('Kiểu 0', 'Kiểu 1', 'Kiểu 2', 'Kiểu 3'))\n",
    "ax.legend()\n",
    "\n",
    "plt.show()"
   ]
  },
  {
   "attachments": {},
   "cell_type": "markdown",
   "metadata": {},
   "source": [
    "Theo biểu đồ, phần lớn những người mắc bệnh tim thường có dấu hiệu đau ngực kiểu 2(Kiểu đau ngực không đặc hiệu) khoảng 43%, kế tiếp là kiểu 1(đau không điển hình) khoảng 25% và kiểu 0(đau điển hình) khoảng 23%, thấp nhất là kiểu 3(không có triệu chứng) khoảng 9%,"
   ]
  },
  {
   "cell_type": "code",
   "execution_count": 11,
   "metadata": {},
   "outputs": [
    {
     "data": {
      "image/png": "[encoded data removed]",
      "text/plain": [
       "<Figure size 432x288 with 1 Axes>"
      ]
     },
     "metadata": {
      "needs_background": "light"
     },
     "output_type": "display_data"
    }
   ],
   "source": [
    "thal_1 = df[df.thal == 1]\n",
    "thal_2 = df[df.thal == 2]\n",
    "thal_3 = df[df.thal == 3]\n",
    "thal_1_nor = np.sum(np.array(thal_1['target']) == 0)\n",
    "thal_2_nor = np.sum(np.array(thal_2['target']) == 0)\n",
    "thal_3_nor = np.sum(np.array(thal_3['target']) == 0)\n",
    "thal_1_nnor = np.sum(np.array(thal_1['target']) == 1)\n",
    "thal_2_nnor = np.sum(np.array(thal_2['target']) == 1)\n",
    "thal_3_nnor = np.sum(np.array(thal_3['target']) == 1)\n",
    "nor = (thal_1_nor, thal_2_nor, thal_3_nor)\n",
    "not_nor = (thal_1_nnor, thal_2_nnor, thal_3_nnor)\n",
    "\n",
    "ind = np.arange(len(nor)) \n",
    "width = 0.35 \n",
    "\n",
    "fig, ax = plt.subplots()\n",
    "rects1 = ax.bar(ind - width / 2, nor, width,\n",
    "                label = 'Người bình thường')\n",
    "rects2 = ax.bar(ind + width / 2, not_nor, width,\n",
    "                label = 'Người bệnh')\n",
    "\n",
    "ax.set_ylabel('Scores')\n",
    "ax.set_title('Các trạng thái rối loại máu Thalassemia')\n",
    "ax.set_xticks(ind)\n",
    "ax.set_xticklabels(('Fixed defect', 'Normal', 'Reversable defect'))\n",
    "ax.legend()\n",
    "\n",
    "plt.show()"
   ]
  },
  {
   "attachments": {},
   "cell_type": "markdown",
   "metadata": {},
   "source": [
    "Biểu đồ cho thấy những người ở trạng thái Normal (không mắc bệnh rối loạn máu) vẫn có khả năng mắc bệnh tim, nó còn phụ thuộc vào những yếu tố khác vì người bệnh tim ở trạng thái này chiếm hơn 50% . Và những người mắc bệnh rối loạn máu có khả năng mắc bệnh tim ở mức độ trung bình từ 25-30%."
   ]
  }
 ],
 "metadata": {
  "kernelspec": {
   "display_name": "Python 3",
   "language": "python",
   "name": "python3"
  },
  "language_info": {
   "codemirror_mode": {
    "name": "ipython",
    "version": 3
   },
   "file_extension": ".py",
   "mimetype": "text/x-python",
   "name": "python",
   "nbconvert_exporter": "python",
   "pygments_lexer": "ipython3",
   "version": "3.10.2"
  },
  "orig_nbformat": 4
 },
 "nbformat": 4,
 "nbformat_minor": 2
}
